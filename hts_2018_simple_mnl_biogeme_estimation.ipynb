{
 "cells": [
  {
   "cell_type": "markdown",
   "metadata": {},
   "source": [
    "## Estimate the multinomial logit (mnl) model for dc metro hts 2017/2018 survey using biogeme libraries"
   ]
  },
  {
   "cell_type": "code",
   "execution_count": 11,
   "metadata": {},
   "outputs": [],
   "source": [
    "import pandas as pd\n",
    "from matplotlib import pyplot as plt\n",
    "import biogeme.database as db\n",
    "import biogeme.biogeme as bio\n",
    "import biogeme.models as models\n",
    "import biogeme.version as ver\n",
    "from biogeme.expressions import Beta"
   ]
  },
  {
   "cell_type": "markdown",
   "metadata": {},
   "source": [
    "Check the version of Biogeme"
   ]
  },
  {
   "cell_type": "code",
   "execution_count": 12,
   "metadata": {},
   "outputs": [
    {
     "data": {
      "text/plain": [
       "'3.2.6'"
      ]
     },
     "execution_count": 12,
     "metadata": {},
     "output_type": "execute_result"
    }
   ],
   "source": [
    "ver.getVersion()"
   ]
  },
  {
   "cell_type": "markdown",
   "metadata": {},
   "source": [
    "# Step 2: prepare the data"
   ]
  },
  {
   "cell_type": "code",
   "execution_count": 13,
   "metadata": {},
   "outputs": [
    {
     "name": "stderr",
     "output_type": "stream",
     "text": [
      "C:\\Users\\makhijaa\\Anaconda3\\lib\\site-packages\\IPython\\core\\interactiveshell.py:3146: DtypeWarning: Columns (24,25,27,29,52,55) have mixed types.Specify dtype option on import or set low_memory=False.\n",
      "  has_raised = await self.run_ast_nodes(code_ast.body, cell_name,\n"
     ]
    }
   ],
   "source": [
    "df = pd.read_csv('hts_data/trip_processed.csv')\n"
   ]
  },
  {
   "cell_type": "markdown",
   "metadata": {},
   "source": [
    "## Remove unwanted columns and filter hbw trips excluding outliers"
   ]
  },
  {
   "cell_type": "code",
   "execution_count": 14,
   "metadata": {},
   "outputs": [],
   "source": [
    "df.drop(columns=['DEPARTURE_TIME_HHMM','ARRIVAL_TIME_HHMM','MPO_TRAVEL_MODE','MPO_TRAVEL_MODE_DETAIL','MPO_TRANSIT_ACCESS_MODE','MPO_TRANSIT_EGRESS_MODE','MPO_SUBWAY_ACCESS_MODE','MPO_SUBWAY_EGRESS_MODE'], axis=1, inplace=True) \n",
    "df_hbw = df[(df[\"PURP\"]==1) & (df[\"INC\"]==1) & (df[\"CHOICE\"]>0) & (df[\"SPEED\"]>3) & (df[\"SPEED\"]<100) & (df[\"DISTANCE\"]<=120)]"
   ]
  },
  {
   "cell_type": "code",
   "execution_count": 15,
   "metadata": {},
   "outputs": [
    {
     "data": {
      "text/html": [
       "<div>\n",
       "<style scoped>\n",
       "    .dataframe tbody tr th:only-of-type {\n",
       "        vertical-align: middle;\n",
       "    }\n",
       "\n",
       "    .dataframe tbody tr th {\n",
       "        vertical-align: top;\n",
       "    }\n",
       "\n",
       "    .dataframe thead th {\n",
       "        text-align: right;\n",
       "    }\n",
       "</style>\n",
       "<table border=\"1\" class=\"dataframe\">\n",
       "  <thead>\n",
       "    <tr style=\"text-align: right;\">\n",
       "      <th></th>\n",
       "      <th>HOUSEHOLD_ID</th>\n",
       "      <th>PERSON_ID</th>\n",
       "      <th>PERSNO</th>\n",
       "      <th>TRIPID</th>\n",
       "      <th>TRIPNO</th>\n",
       "      <th>O_PURPOSE</th>\n",
       "      <th>O_ACTIVITY</th>\n",
       "      <th>MPO_O_ACTIVITY</th>\n",
       "      <th>O_STATE_FIPS</th>\n",
       "      <th>O_STATE_COUNTY_FIPS</th>\n",
       "      <th>...</th>\n",
       "      <th>ExBusCost</th>\n",
       "      <th>PURP</th>\n",
       "      <th>SovAV</th>\n",
       "      <th>HovAV</th>\n",
       "      <th>MetroAV</th>\n",
       "      <th>CrAV</th>\n",
       "      <th>BusAV</th>\n",
       "      <th>ExBusAV</th>\n",
       "      <th>SPEED</th>\n",
       "      <th>INC</th>\n",
       "    </tr>\n",
       "  </thead>\n",
       "  <tbody>\n",
       "    <tr>\n",
       "      <th>12814</th>\n",
       "      <td>170001127</td>\n",
       "      <td>17000112701</td>\n",
       "      <td>1</td>\n",
       "      <td>1.700000e+12</td>\n",
       "      <td>1</td>\n",
       "      <td>1</td>\n",
       "      <td>1</td>\n",
       "      <td>1</td>\n",
       "      <td>24</td>\n",
       "      <td>24021</td>\n",
       "      <td>...</td>\n",
       "      <td>425</td>\n",
       "      <td>1</td>\n",
       "      <td>1</td>\n",
       "      <td>1</td>\n",
       "      <td>1</td>\n",
       "      <td>1</td>\n",
       "      <td>1</td>\n",
       "      <td>1</td>\n",
       "      <td>12.106953</td>\n",
       "      <td>1</td>\n",
       "    </tr>\n",
       "    <tr>\n",
       "      <th>12815</th>\n",
       "      <td>170001127</td>\n",
       "      <td>17000112701</td>\n",
       "      <td>1</td>\n",
       "      <td>1.700000e+12</td>\n",
       "      <td>2</td>\n",
       "      <td>2</td>\n",
       "      <td>2</td>\n",
       "      <td>3</td>\n",
       "      <td>24</td>\n",
       "      <td>24021</td>\n",
       "      <td>...</td>\n",
       "      <td>425</td>\n",
       "      <td>1</td>\n",
       "      <td>1</td>\n",
       "      <td>1</td>\n",
       "      <td>1</td>\n",
       "      <td>1</td>\n",
       "      <td>1</td>\n",
       "      <td>1</td>\n",
       "      <td>12.106953</td>\n",
       "      <td>1</td>\n",
       "    </tr>\n",
       "    <tr>\n",
       "      <th>12889</th>\n",
       "      <td>170001414</td>\n",
       "      <td>17000141401</td>\n",
       "      <td>1</td>\n",
       "      <td>1.700000e+12</td>\n",
       "      <td>1</td>\n",
       "      <td>1</td>\n",
       "      <td>1</td>\n",
       "      <td>1</td>\n",
       "      <td>51</td>\n",
       "      <td>51059</td>\n",
       "      <td>...</td>\n",
       "      <td>625</td>\n",
       "      <td>1</td>\n",
       "      <td>1</td>\n",
       "      <td>1</td>\n",
       "      <td>1</td>\n",
       "      <td>1</td>\n",
       "      <td>1</td>\n",
       "      <td>1</td>\n",
       "      <td>26.090401</td>\n",
       "      <td>1</td>\n",
       "    </tr>\n",
       "    <tr>\n",
       "      <th>12890</th>\n",
       "      <td>170001414</td>\n",
       "      <td>17000141401</td>\n",
       "      <td>1</td>\n",
       "      <td>1.700000e+12</td>\n",
       "      <td>2</td>\n",
       "      <td>3</td>\n",
       "      <td>2</td>\n",
       "      <td>4</td>\n",
       "      <td>51</td>\n",
       "      <td>51510</td>\n",
       "      <td>...</td>\n",
       "      <td>625</td>\n",
       "      <td>1</td>\n",
       "      <td>1</td>\n",
       "      <td>1</td>\n",
       "      <td>1</td>\n",
       "      <td>1</td>\n",
       "      <td>1</td>\n",
       "      <td>1</td>\n",
       "      <td>43.484002</td>\n",
       "      <td>1</td>\n",
       "    </tr>\n",
       "    <tr>\n",
       "      <th>12891</th>\n",
       "      <td>170001414</td>\n",
       "      <td>17000141401</td>\n",
       "      <td>1</td>\n",
       "      <td>1.700000e+12</td>\n",
       "      <td>3</td>\n",
       "      <td>1</td>\n",
       "      <td>1</td>\n",
       "      <td>2</td>\n",
       "      <td>51</td>\n",
       "      <td>51059</td>\n",
       "      <td>...</td>\n",
       "      <td>625</td>\n",
       "      <td>1</td>\n",
       "      <td>1</td>\n",
       "      <td>1</td>\n",
       "      <td>1</td>\n",
       "      <td>1</td>\n",
       "      <td>1</td>\n",
       "      <td>1</td>\n",
       "      <td>19.834972</td>\n",
       "      <td>1</td>\n",
       "    </tr>\n",
       "  </tbody>\n",
       "</table>\n",
       "<p>5 rows × 76 columns</p>\n",
       "</div>"
      ],
      "text/plain": [
       "       HOUSEHOLD_ID    PERSON_ID  PERSNO        TRIPID  TRIPNO  O_PURPOSE  \\\n",
       "12814     170001127  17000112701       1  1.700000e+12       1          1   \n",
       "12815     170001127  17000112701       1  1.700000e+12       2          2   \n",
       "12889     170001414  17000141401       1  1.700000e+12       1          1   \n",
       "12890     170001414  17000141401       1  1.700000e+12       2          3   \n",
       "12891     170001414  17000141401       1  1.700000e+12       3          1   \n",
       "\n",
       "       O_ACTIVITY  MPO_O_ACTIVITY  O_STATE_FIPS  O_STATE_COUNTY_FIPS  ...  \\\n",
       "12814           1               1            24                24021  ...   \n",
       "12815           2               3            24                24021  ...   \n",
       "12889           1               1            51                51059  ...   \n",
       "12890           2               4            51                51510  ...   \n",
       "12891           1               2            51                51059  ...   \n",
       "\n",
       "       ExBusCost  PURP  SovAV  HovAV  MetroAV  CrAV  BusAV  ExBusAV  \\\n",
       "12814        425     1      1      1        1     1      1        1   \n",
       "12815        425     1      1      1        1     1      1        1   \n",
       "12889        625     1      1      1        1     1      1        1   \n",
       "12890        625     1      1      1        1     1      1        1   \n",
       "12891        625     1      1      1        1     1      1        1   \n",
       "\n",
       "           SPEED  INC  \n",
       "12814  12.106953    1  \n",
       "12815  12.106953    1  \n",
       "12889  26.090401    1  \n",
       "12890  43.484002    1  \n",
       "12891  19.834972    1  \n",
       "\n",
       "[5 rows x 76 columns]"
      ]
     },
     "execution_count": 15,
     "metadata": {},
     "output_type": "execute_result"
    }
   ],
   "source": [
    "df_hbw.head()\n"
   ]
  },
  {
   "cell_type": "code",
   "execution_count": 16,
   "metadata": {},
   "outputs": [],
   "source": [
    "database = db.Database(\"hbw\",df_hbw)"
   ]
  },
  {
   "cell_type": "markdown",
   "metadata": {},
   "source": [
    "## Define the name of the variables as Python variables"
   ]
  },
  {
   "cell_type": "code",
   "execution_count": 17,
   "metadata": {},
   "outputs": [],
   "source": [
    "globals().update(database.variables)"
   ]
  },
  {
   "cell_type": "markdown",
   "metadata": {},
   "source": [
    "## Remove some observations"
   ]
  },
  {
   "cell_type": "code",
   "execution_count": 18,
   "metadata": {},
   "outputs": [
    {
     "data": {
      "text/plain": [
       "1562"
      ]
     },
     "execution_count": 18,
     "metadata": {},
     "output_type": "execute_result"
    }
   ],
   "source": [
    "database.getSampleSize()"
   ]
  },
  {
   "cell_type": "markdown",
   "metadata": {},
   "source": [
    "# Model specification - simple mnl 6 modes with tt and cost parameters"
   ]
  },
  {
   "cell_type": "markdown",
   "metadata": {},
   "source": [
    "\n",
    "Create parameters to be estimated\n",
    "\n",
    "Beta\n",
    "\n",
    "    1.name of parameter\n",
    "    2.default value for the parameter\n",
    "    3.lower bound\n",
    "    4.upper bound\n",
    "    5.flag indicating if parameter is to be estimated\n"
   ]
  },
  {
   "cell_type": "code",
   "execution_count": 19,
   "metadata": {},
   "outputs": [],
   "source": [
    "B_TIME    = Beta('B_TIME',0,None, None ,0)\n",
    "B_COST    = Beta('B_COST',0,None ,None ,0)"
   ]
  },
  {
   "cell_type": "markdown",
   "metadata": {},
   "source": [
    "## Definition of new variables"
   ]
  },
  {
   "cell_type": "markdown",
   "metadata": {},
   "source": [
    "## Specification of the utility functions"
   ]
  },
  {
   "cell_type": "code",
   "execution_count": 20,
   "metadata": {},
   "outputs": [],
   "source": [
    "V1 = B_TIME * SovTT + \\\n",
    "     B_COST * SovCost\n",
    "V2 = B_TIME * HovTT + \\\n",
    "     B_COST * HovCost\n",
    "V3 = B_TIME * MetroTT + \\\n",
    "     B_COST * MetroCost\n",
    "V4 = B_TIME * CrTT + \\\n",
    "     B_COST * CrCost\n",
    "V5 = B_TIME * BusTT + \\\n",
    "     B_COST * BusCost\n",
    "V6 = B_TIME * ExBusTT + \\\n",
    "     B_COST * ExBusCost\n"
   ]
  },
  {
   "cell_type": "markdown",
   "metadata": {},
   "source": [
    "## Associate the utility functions with the numbering of the alternatives"
   ]
  },
  {
   "cell_type": "code",
   "execution_count": 21,
   "metadata": {},
   "outputs": [],
   "source": [
    "V = {1: V1,\n",
    "     2: V2,\n",
    "     3: V3,\n",
    "     4: V4,\n",
    "     5: V5,\n",
    "     6: V6}"
   ]
  },
  {
   "cell_type": "markdown",
   "metadata": {},
   "source": [
    "## Associate the availability conditions with the alternatives"
   ]
  },
  {
   "cell_type": "code",
   "execution_count": 22,
   "metadata": {},
   "outputs": [],
   "source": [
    "av = {1: 1,\n",
    "      2: 1,\n",
    "      3: 1,\n",
    "      4: 1,\n",
    "      5: 1,\n",
    "      6: 1}"
   ]
  },
  {
   "cell_type": "markdown",
   "metadata": {},
   "source": [
    "## The contribution to the log likelihood function is the logarithm of a logit model"
   ]
  },
  {
   "cell_type": "code",
   "execution_count": 23,
   "metadata": {},
   "outputs": [],
   "source": [
    "logprob = models.loglogit(V, av, CHOICE)"
   ]
  },
  {
   "cell_type": "markdown",
   "metadata": {},
   "source": [
    "# Biogeme"
   ]
  },
  {
   "cell_type": "code",
   "execution_count": 24,
   "metadata": {},
   "outputs": [],
   "source": [
    "biogeme = bio.BIOGEME(database, logprob)\n",
    "biogeme.modelName = 'hts_2018_hbwmnl'"
   ]
  },
  {
   "cell_type": "markdown",
   "metadata": {},
   "source": [
    "## Running the estimation"
   ]
  },
  {
   "cell_type": "code",
   "execution_count": 25,
   "metadata": {},
   "outputs": [],
   "source": [
    "results = biogeme.estimate()"
   ]
  },
  {
   "cell_type": "markdown",
   "metadata": {},
   "source": [
    "## Read the results"
   ]
  },
  {
   "cell_type": "code",
   "execution_count": 26,
   "metadata": {},
   "outputs": [
    {
     "data": {
      "text/html": [
       "<div>\n",
       "<style scoped>\n",
       "    .dataframe tbody tr th:only-of-type {\n",
       "        vertical-align: middle;\n",
       "    }\n",
       "\n",
       "    .dataframe tbody tr th {\n",
       "        vertical-align: top;\n",
       "    }\n",
       "\n",
       "    .dataframe thead th {\n",
       "        text-align: right;\n",
       "    }\n",
       "</style>\n",
       "<table border=\"1\" class=\"dataframe\">\n",
       "  <thead>\n",
       "    <tr style=\"text-align: right;\">\n",
       "      <th></th>\n",
       "      <th>Value</th>\n",
       "      <th>Std err</th>\n",
       "      <th>t-test</th>\n",
       "      <th>p-value</th>\n",
       "      <th>Rob. Std err</th>\n",
       "      <th>Rob. t-test</th>\n",
       "      <th>Rob. p-value</th>\n",
       "    </tr>\n",
       "  </thead>\n",
       "  <tbody>\n",
       "    <tr>\n",
       "      <th>B_COST</th>\n",
       "      <td>-0.004589</td>\n",
       "      <td>0.000195</td>\n",
       "      <td>-23.515149</td>\n",
       "      <td>0.0</td>\n",
       "      <td>0.000367</td>\n",
       "      <td>-12.487596</td>\n",
       "      <td>0.0</td>\n",
       "    </tr>\n",
       "    <tr>\n",
       "      <th>B_TIME</th>\n",
       "      <td>-0.040523</td>\n",
       "      <td>0.002201</td>\n",
       "      <td>-18.410120</td>\n",
       "      <td>0.0</td>\n",
       "      <td>0.003639</td>\n",
       "      <td>-11.137155</td>\n",
       "      <td>0.0</td>\n",
       "    </tr>\n",
       "  </tbody>\n",
       "</table>\n",
       "</div>"
      ],
      "text/plain": [
       "           Value   Std err     t-test  p-value  Rob. Std err  Rob. t-test  \\\n",
       "B_COST -0.004589  0.000195 -23.515149      0.0      0.000367   -12.487596   \n",
       "B_TIME -0.040523  0.002201 -18.410120      0.0      0.003639   -11.137155   \n",
       "\n",
       "        Rob. p-value  \n",
       "B_COST           0.0  \n",
       "B_TIME           0.0  "
      ]
     },
     "execution_count": 26,
     "metadata": {},
     "output_type": "execute_result"
    }
   ],
   "source": [
    "pandasResults = results.getEstimatedParameters()\n",
    "pandasResults"
   ]
  },
  {
   "cell_type": "code",
   "execution_count": 27,
   "metadata": {},
   "outputs": [
    {
     "name": "stdout",
     "output_type": "stream",
     "text": [
      "Number of estimated parameters               = 2\n",
      "Sample size                                  = 1562\n",
      "Excluded observations                        = 0\n",
      "Init log likelihood                          = -2798.7282909342216\n",
      "Final log likelihood                         = -2158.891995301038\n",
      "Likelihood ratio test for the init. model    = 1279.672591266367\n",
      "Rho-square for the init. model               = 0.22861679631630294\n",
      "Rho-square-bar for the init. model           = 0.22790218603902856\n",
      "Akaike Information Criterion                 = 4321.783990602076\n",
      "Bayesian Information Criterion               = 4332.491435262876\n",
      "Final gradient norm                          = 0.0007768460029123466\n",
      "Nbr of threads                               = 12\n"
     ]
    }
   ],
   "source": [
    "gs = results.getGeneralStatistics()\n",
    "\n",
    "for k,v in gs.items():\n",
    "    print(\"{}= {}\".format(k.ljust(45),v[0]))"
   ]
  },
  {
   "cell_type": "code",
   "execution_count": null,
   "metadata": {},
   "outputs": [],
   "source": []
  }
 ],
 "metadata": {
  "kernelspec": {
   "display_name": "Python 3",
   "language": "python",
   "name": "python3"
  },
  "language_info": {
   "codemirror_mode": {
    "name": "ipython",
    "version": 3
   },
   "file_extension": ".py",
   "mimetype": "text/x-python",
   "name": "python",
   "nbconvert_exporter": "python",
   "pygments_lexer": "ipython3",
   "version": "3.8.5"
  }
 },
 "nbformat": 4,
 "nbformat_minor": 2
}
